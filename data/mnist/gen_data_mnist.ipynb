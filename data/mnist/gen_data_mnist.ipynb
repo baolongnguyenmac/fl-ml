{
 "cells": [
  {
   "cell_type": "code",
   "execution_count": 1,
   "id": "530d8d11",
   "metadata": {},
   "outputs": [],
   "source": [
    "import pandas as pd\n",
    "import numpy as np\n",
    "import json\n",
    "import matplotlib.pyplot as plt"
   ]
  },
  {
   "cell_type": "code",
   "execution_count": 2,
   "id": "6ddfcb86",
   "metadata": {},
   "outputs": [
    {
     "data": {
      "text/plain": [
       "(70000, 785)"
      ]
     },
     "execution_count": 2,
     "metadata": {},
     "output_type": "execute_result"
    }
   ],
   "source": [
    "df_train = pd.read_csv('./mnist_train.csv')\n",
    "df_test = pd.read_csv('./mnist_test.csv')\n",
    "df = pd.concat([df_train, df_test], axis=0)\n",
    "df.shape"
   ]
  },
  {
   "cell_type": "code",
   "execution_count": 3,
   "id": "5295f73a",
   "metadata": {},
   "outputs": [
    {
     "data": {
      "text/plain": [
       "(70000, 785)"
      ]
     },
     "execution_count": 3,
     "metadata": {},
     "output_type": "execute_result"
    }
   ],
   "source": [
    "all_data = df.to_numpy()\n",
    "all_data.shape"
   ]
  },
  {
   "cell_type": "code",
   "execution_count": 4,
   "id": "a1b83a79",
   "metadata": {},
   "outputs": [
    {
     "data": {
      "text/plain": [
       "((70000, 784), (70000,))"
      ]
     },
     "execution_count": 4,
     "metadata": {},
     "output_type": "execute_result"
    }
   ],
   "source": [
    "X = all_data[:, 1:]/255.0\n",
    "y = all_data[:, 0]\n",
    "X.shape, y.shape"
   ]
  },
  {
   "cell_type": "code",
   "execution_count": 5,
   "id": "38ba73ba",
   "metadata": {},
   "outputs": [
    {
     "name": "stdout",
     "output_type": "stream",
     "text": [
      "5\n"
     ]
    },
    {
     "data": {
      "text/plain": [
       "<matplotlib.image.AxesImage at 0x7fef7a0d7340>"
      ]
     },
     "execution_count": 5,
     "metadata": {},
     "output_type": "execute_result"
    },
    {
     "data": {
      "image/png": "[encoded data removed]",
      "text/plain": [
       "<Figure size 432x288 with 1 Axes>"
      ]
     },
     "metadata": {
      "needs_background": "light"
     },
     "output_type": "display_data"
    }
   ],
   "source": [
    "print(y[0])\n",
    "plt.imshow(X[0].reshape(28, 28))"
   ]
  },
  {
   "cell_type": "code",
   "execution_count": 6,
   "id": "2b3c08aa",
   "metadata": {},
   "outputs": [
    {
     "data": {
      "text/plain": [
       "<BarContainer object of 10 artists>"
      ]
     },
     "execution_count": 6,
     "metadata": {},
     "output_type": "execute_result"
    },
    {
     "data": {
      "image/png": "[encoded data removed]",
      "text/plain": [
       "<Figure size 432x288 with 1 Axes>"
      ]
     },
     "metadata": {
      "needs_background": "light"
     },
     "output_type": "display_data"
    }
   ],
   "source": [
    "data_by_label = {}\n",
    "for i in set(y):\n",
    "    data_by_label[i] = []\n",
    "for i, item in enumerate(y):\n",
    "    data_by_label[item].append(X[i].tolist())\n",
    "\n",
    "plt.bar(x=list(data_by_label.keys()), height=[len(data_by_label[key]) for key in data_by_label.keys()])"
   ]
  },
  {
   "cell_type": "code",
   "execution_count": 7,
   "id": "d30216a4",
   "metadata": {},
   "outputs": [
    {
     "data": {
      "text/plain": [
       "10"
      ]
     },
     "execution_count": 7,
     "metadata": {},
     "output_type": "execute_result"
    }
   ],
   "source": [
    "NUM_USER = 50\n",
    "NUM_LABEL_PER_USER = 2\n",
    "NUM_LABEL = 10\n",
    "INTERVAL = int(NUM_USER*NUM_LABEL_PER_USER/NUM_LABEL)\n",
    "INTERVAL"
   ]
  },
  {
   "cell_type": "code",
   "execution_count": 8,
   "id": "2d2aae9f",
   "metadata": {},
   "outputs": [
    {
     "data": {
      "text/plain": [
       "[[1688, 709, 1505, 1177, 880, 218, 210, 175, 102, 239],\n",
       " [3513, 904, 1728, 438, 295, 366, 311, 130, 35, 157],\n",
       " [3151, 1256, 486, 680, 526, 131, 137, 271, 128, 224],\n",
       " [1759, 2678, 1276, 448, 406, 74, 102, 37, 160, 201],\n",
       " [936, 2792, 1009, 842, 228, 213, 103, 134, 182, 385],\n",
       " [2051, 1972, 521, 675, 379, 108, 131, 69, 89, 318],\n",
       " [1985, 1065, 1230, 251, 277, 384, 178, 503, 317, 686],\n",
       " [2158, 2393, 1295, 257, 387, 228, 217, 89, 107, 162],\n",
       " [1268, 1817, 1782, 956, 370, 200, 126, 52, 94, 160],\n",
       " [875, 1925, 964, 1504, 455, 528, 280, 189, 76, 162]]"
      ]
     },
     "execution_count": 8,
     "metadata": {},
     "output_type": "execute_result"
    }
   ],
   "source": [
    "np.random.seed(1)\n",
    "range_in_label = []\n",
    "\n",
    "for i in range(NUM_LABEL):\n",
    "    tmp = []\n",
    "    total = len(data_by_label[i])\n",
    "    for j in range(INTERVAL-1):\n",
    "        val = np.random.randint(total//(INTERVAL + 1), total//2)\n",
    "        tmp.append(val)\n",
    "        total -= val\n",
    "    tmp.append(total)\n",
    "    range_in_label.append(tmp)\n",
    "\n",
    "range_in_label"
   ]
  },
  {
   "cell_type": "code",
   "execution_count": 13,
   "id": "c46319e6",
   "metadata": {
    "collapsed": true
   },
   "outputs": [
    {
     "name": "stdout",
     "output_type": "stream",
     "text": [
      "904 + 3151 = 4055\n",
      "904 + 1256 = 2160\n",
      "904 + 486 = 1390\n",
      "904 + 680 = 1584\n",
      "904 + 526 = 1430\n",
      "904 + 131 = 1035\n",
      "904 + 137 = 1041\n",
      "904 + 271 = 1175\n",
      "904 + 128 = 1032\n",
      "904 + 224 = 1128\n",
      "\n",
      "1728 + 3151 = 4879\n",
      "1728 + 1256 = 2984\n",
      "1728 + 486 = 2214\n",
      "1728 + 680 = 2408\n",
      "1728 + 526 = 2254\n",
      "1728 + 131 = 1859\n",
      "1728 + 137 = 1865\n",
      "1728 + 271 = 1999\n",
      "1728 + 128 = 1856\n",
      "1728 + 224 = 1952\n",
      "\n",
      "438 + 3151 = 3589\n",
      "438 + 1256 = 1694\n",
      "438 + 486 = 924\n",
      "438 + 680 = 1118\n",
      "438 + 526 = 964\n",
      "438 + 131 = 569\n",
      "438 + 137 = 575\n",
      "438 + 271 = 709\n",
      "438 + 128 = 566\n",
      "438 + 224 = 662\n",
      "\n",
      "295 + 3151 = 3446\n",
      "295 + 1256 = 1551\n",
      "295 + 486 = 781\n",
      "295 + 680 = 975\n",
      "295 + 526 = 821\n",
      "295 + 131 = 426\n",
      "295 + 137 = 432\n",
      "295 + 271 = 566\n",
      "295 + 128 = 423\n",
      "295 + 224 = 519\n",
      "\n",
      "366 + 3151 = 3517\n",
      "366 + 1256 = 1622\n",
      "366 + 486 = 852\n",
      "366 + 680 = 1046\n",
      "366 + 526 = 892\n",
      "366 + 131 = 497\n",
      "366 + 137 = 503\n",
      "366 + 271 = 637\n",
      "366 + 128 = 494\n",
      "366 + 224 = 590\n",
      "\n",
      "311 + 3151 = 3462\n",
      "311 + 1256 = 1567\n",
      "311 + 486 = 797\n",
      "311 + 680 = 991\n",
      "311 + 526 = 837\n",
      "311 + 131 = 442\n",
      "311 + 137 = 448\n",
      "311 + 271 = 582\n",
      "311 + 128 = 439\n",
      "311 + 224 = 535\n",
      "\n",
      "130 + 3151 = 3281\n",
      "130 + 1256 = 1386\n",
      "130 + 486 = 616\n",
      "130 + 680 = 810\n",
      "130 + 526 = 656\n",
      "130 + 131 = 261\n",
      "130 + 137 = 267\n",
      "130 + 271 = 401\n",
      "130 + 128 = 258\n",
      "130 + 224 = 354\n",
      "\n",
      "35 + 3151 = 3186\n",
      "35 + 1256 = 1291\n",
      "35 + 486 = 521\n",
      "35 + 680 = 715\n",
      "35 + 526 = 561\n",
      "35 + 131 = 166\n",
      "35 + 137 = 172\n",
      "35 + 271 = 306\n",
      "35 + 128 = 163\n",
      "35 + 224 = 259\n",
      "\n",
      "157 + 3151 = 3308\n",
      "157 + 1256 = 1413\n",
      "157 + 486 = 643\n",
      "157 + 680 = 837\n",
      "157 + 526 = 683\n",
      "157 + 131 = 288\n",
      "157 + 137 = 294\n",
      "157 + 271 = 428\n",
      "157 + 128 = 285\n",
      "157 + 224 = 381\n",
      "\n"
     ]
    }
   ],
   "source": [
    "flag = True\n",
    "for i in range_in_label[1]:\n",
    "    if flag:\n",
    "        flag=False\n",
    "        continue\n",
    "    for j in range_in_label[2]:\n",
    "        print(f\"{i} + {j} = {i+j}\")\n",
    "    print()"
   ]
  },
  {
   "cell_type": "code",
   "execution_count": 10,
   "id": "945eb74e",
   "metadata": {
    "scrolled": false
   },
   "outputs": [],
   "source": [
    "np.random.seed(10)\n",
    "all_user = {}\n",
    "flag1 = [0]*NUM_LABEL\n",
    "flag2 = [0]*NUM_LABEL\n",
    "available_label = set(list(range(NUM_LABEL)))\n",
    "\n",
    "for i in range(NUM_USER):\n",
    "    all_user[str(i)] = {}\n",
    "    \n",
    "    labels = np.random.choice(a=list(available_label), size=(NUM_LABEL_PER_USER,), replace=False)\n",
    "    for label in labels:\n",
    "        tmp = flag1[label]\n",
    "        tmp_ = tmp + range_in_label[label][flag2[label]]\n",
    "        all_user[str(i)][int(label)] = data_by_label[label][tmp:tmp_]\n",
    "        flag1[label] = tmp_\n",
    "        flag2[label] += 1\n",
    "        if flag2[label] == INTERVAL:\n",
    "            available_label.remove(label)"
   ]
  },
  {
   "cell_type": "code",
   "execution_count": 13,
   "id": "be693513",
   "metadata": {},
   "outputs": [
    {
     "data": {
      "image/png": "[encoded data removed]",
      "text/plain": [
       "<Figure size 1080x1080 with 50 Axes>"
      ]
     },
     "metadata": {
      "needs_background": "light"
     },
     "output_type": "display_data"
    }
   ],
   "source": [
    "def check(all_client):\n",
    "    fig, axes = plt.subplots(nrows=5, ncols=10, figsize=(15, 15), sharey=True)\n",
    "    fig.subplots_adjust(hspace=0.5)\n",
    "\n",
    "    for i, key in enumerate(all_client.keys()):\n",
    "#         print(key, len(all_client[key]))\n",
    "#         for j in all_client[key].keys():\n",
    "#             print(f'{j}: {len(all_client[key][j])}', end=' ')\n",
    "#         print('\\n')\n",
    "\n",
    "        x = list(all_client[key].keys())\n",
    "        y = [len(all_client[key][t]) for t in all_client[key].keys()]\n",
    "        axes[int(i/10), int(i % 10)].bar(x=x, height=y)\n",
    "        axes[int(i/10), int(i%10)].set_title(sum(y))\n",
    "\n",
    "check(all_user)"
   ]
  },
  {
   "cell_type": "code",
   "execution_count": 12,
   "id": "c13d6a4e",
   "metadata": {},
   "outputs": [],
   "source": [
    "def write_to_file(client_dict: dict):\n",
    "    all_train_data = {}\n",
    "    all_test_data = {}\n",
    "\n",
    "    users = list(client_dict.keys())\n",
    "    all_train_data['users'] = users\n",
    "    all_test_data['users'] = users\n",
    "\n",
    "    num_train_samples = []\n",
    "    num_test_samples = []\n",
    "    train_user_data = {}\n",
    "    test_user_data = {}\n",
    "    for user in users:\n",
    "        train_user_data[user] = {}\n",
    "        test_user_data[user] = {}\n",
    "\n",
    "        train_user_data[user]['x'] = []\n",
    "        train_user_data[user]['y'] = []\n",
    "        test_user_data[user]['x'] = []\n",
    "        test_user_data[user]['y'] = []\n",
    "\n",
    "        for key in client_dict[user].keys():\n",
    "            len_x = len(client_dict[user][key])\n",
    "            p = int(0.75*len_x)\n",
    "\n",
    "            train_user_data[user]['x'].extend(client_dict[user][key][:p])\n",
    "            train_user_data[user]['y'].extend([key]*p)\n",
    "\n",
    "            test_user_data[user]['x'].extend(client_dict[user][key][p:])\n",
    "            test_user_data[user]['y'].extend([key]*(len_x - p))\n",
    "\n",
    "        num_train_samples.append(len(train_user_data[user]['y']))\n",
    "        num_test_samples.append(len(test_user_data[user]['y']))\n",
    "\n",
    "    all_train_data['num_samples'] = num_train_samples\n",
    "    all_test_data['num_samples'] = num_test_samples\n",
    "    all_train_data['user_data'] = train_user_data\n",
    "    all_test_data['user_data'] = test_user_data\n",
    "\n",
    "    with open('./train_json/train.json', 'w') as outfile:\n",
    "        json.dump(all_train_data, outfile)\n",
    "    with open('./test_json/test.json', 'w') as outfile:\n",
    "        json.dump(all_test_data, outfile)\n",
    "        \n",
    "write_to_file(all_user)"
   ]
  }
 ],
 "metadata": {
  "kernelspec": {
   "display_name": "Python 3",
   "language": "python",
   "name": "python3"
  },
  "language_info": {
   "codemirror_mode": {
    "name": "ipython",
    "version": 3
   },
   "file_extension": ".py",
   "mimetype": "text/x-python",
   "name": "python",
   "nbconvert_exporter": "python",
   "pygments_lexer": "ipython3",
   "version": "3.8.8"
  }
 },
 "nbformat": 4,
 "nbformat_minor": 5
}
