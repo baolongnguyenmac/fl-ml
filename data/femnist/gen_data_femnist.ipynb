{
 "cells": [
  {
   "cell_type": "code",
   "execution_count": 1,
   "id": "11504873",
   "metadata": {},
   "outputs": [],
   "source": [
    "import pandas as pd\n",
    "import numpy as np\n",
    "import json\n",
    "import matplotlib.pyplot as plt"
   ]
  },
  {
   "cell_type": "code",
   "execution_count": 2,
   "id": "c615400e",
   "metadata": {},
   "outputs": [
    {
     "data": {
      "text/plain": [
       "(116323, 785)"
      ]
     },
     "execution_count": 2,
     "metadata": {},
     "output_type": "execute_result"
    }
   ],
   "source": [
    "df = pd.read_csv('./emnist-byclass-test.csv', header=None)\n",
    "all_data = df.to_numpy(copy=True)\n",
    "all_data.shape"
   ]
  },
  {
   "cell_type": "code",
   "execution_count": 3,
   "id": "1230d743",
   "metadata": {},
   "outputs": [
    {
     "data": {
      "text/plain": [
       "((116323, 784), (116323,))"
      ]
     },
     "execution_count": 3,
     "metadata": {},
     "output_type": "execute_result"
    }
   ],
   "source": [
    "X = all_data[:, 1:]/255.0\n",
    "y = all_data[:, 0]\n",
    "X.shape, y.shape"
   ]
  },
  {
   "cell_type": "code",
   "execution_count": 4,
   "id": "51700c16",
   "metadata": {},
   "outputs": [
    {
     "name": "stdout",
     "output_type": "stream",
     "text": [
      "18\n"
     ]
    },
    {
     "data": {
      "text/plain": [
       "<matplotlib.image.AxesImage at 0x7fbdf6eb64c0>"
      ]
     },
     "execution_count": 4,
     "metadata": {},
     "output_type": "execute_result"
    },
    {
     "data": {
      "image/png": "[encoded data removed]",
      "text/plain": [
       "<Figure size 432x288 with 1 Axes>"
      ]
     },
     "metadata": {
      "needs_background": "light"
     },
     "output_type": "display_data"
    }
   ],
   "source": [
    "print(y[0])\n",
    "plt.imshow(X[0].reshape(28, 28))"
   ]
  },
  {
   "cell_type": "code",
   "execution_count": 5,
   "id": "71d8265a",
   "metadata": {},
   "outputs": [
    {
     "data": {
      "text/plain": [
       "<BarContainer object of 62 artists>"
      ]
     },
     "execution_count": 5,
     "metadata": {},
     "output_type": "execute_result"
    },
    {
     "data": {
      "image/png": "[encoded data removed]",
      "text/plain": [
       "<Figure size 432x288 with 1 Axes>"
      ]
     },
     "metadata": {
      "needs_background": "light"
     },
     "output_type": "display_data"
    }
   ],
   "source": [
    "data_by_label = {}\n",
    "for i in set(y):\n",
    "    data_by_label[i] = []\n",
    "for i, item in enumerate(y):\n",
    "    data_by_label[item].append(X[i].tolist())\n",
    "\n",
    "plt.bar(x=list(data_by_label.keys()), height=[len(data_by_label[key]) for key in data_by_label.keys()])"
   ]
  },
  {
   "cell_type": "code",
   "execution_count": 6,
   "id": "38f25cd0",
   "metadata": {},
   "outputs": [
    {
     "data": {
      "text/plain": [
       "50"
      ]
     },
     "execution_count": 6,
     "metadata": {},
     "output_type": "execute_result"
    }
   ],
   "source": [
    "import math\n",
    "\n",
    "NUM_USER = 310\n",
    "NUM_LABEL_PER_USER = 10\n",
    "NUM_LABEL = 62\n",
    "INTERVAL = math.ceil(NUM_USER*NUM_LABEL_PER_USER/NUM_LABEL)\n",
    "INTERVAL"
   ]
  },
  {
   "cell_type": "code",
   "execution_count": 10,
   "id": "216065d8",
   "metadata": {
    "scrolled": true
   },
   "outputs": [
    {
     "name": "stdout",
     "output_type": "stream",
     "text": [
      "[150, 345, 243, 170, 232, 293, 218, 159, 221, 202, 140, 200, 87, 81, 160, 106, 122, 138, 136, 151, 137, 136, 124, 48, 43, 41, 96, 92, 51, 85, 27, 26, 85, 41, 31, 46, 34, 68, 61, 26, 48, 24, 19, 22, 36, 18, 18, 38, 25, 678]\n",
      "[150, 230, 131, 178, 306, 129, 213, 323, 306, 220, 107, 232, 178, 93, 78, 193, 86, 187, 158, 112, 136, 88, 56, 79, 80, 54, 66, 57, 128, 63, 108, 109, 95, 77, 61, 51, 82, 27, 74, 37, 26, 22, 35, 27, 42, 26, 21, 31, 45, 917]\n",
      "[264, 312, 110, 178, 298, 167, 165, 128, 103, 111, 115, 179, 80, 116, 126, 163, 76, 72, 83, 183, 136, 60, 172, 72, 121, 136, 62, 72, 51, 103, 96, 58, 35, 42, 85, 100, 94, 33, 64, 72, 77, 36, 25, 37, 61, 38, 39, 53, 28, 782]\n",
      "[231, 209, 289, 186, 109, 192, 276, 148, 140, 231, 173, 99, 214, 209, 179, 103, 192, 78, 176, 58, 114, 117, 97, 111, 75, 59, 77, 112, 82, 79, 70, 74, 43, 54, 67, 69, 26, 74, 23, 34, 66, 18, 47, 28, 51, 44, 48, 16, 33, 669]\n",
      "[193, 154, 157, 132, 253, 147, 299, 115, 109, 153, 212, 181, 167, 97, 71, 146, 109, 136, 118, 160, 132, 70, 151, 62, 85, 54, 68, 51, 55, 60, 40, 85, 78, 89, 62, 58, 44, 27, 48, 42, 59, 51, 58, 58, 23, 32, 40, 48, 25, 755]\n",
      "[295, 311, 247, 230, 148, 141, 219, 237, 221, 99, 129, 105, 99, 158, 104, 47, 133, 60, 62, 51, 133, 89, 46, 103, 56, 46, 94, 50, 74, 30, 82, 49, 40, 69, 37, 28, 34, 33, 34, 43, 38, 38, 45, 52, 36, 41, 35, 24, 24, 591]\n",
      "[326, 272, 225, 138, 297, 201, 121, 171, 189, 142, 232, 220, 135, 111, 146, 81, 95, 52, 132, 141, 140, 67, 124, 68, 100, 56, 85, 35, 101, 41, 67, 75, 86, 30, 36, 58, 44, 42, 22, 47, 60, 48, 25, 40, 44, 26, 31, 23, 23, 634]\n",
      "[225, 151, 225, 252, 261, 213, 200, 302, 269, 114, 246, 153, 71, 160, 173, 107, 139, 83, 126, 80, 52, 148, 59, 86, 80, 142, 79, 56, 75, 98, 79, 34, 59, 88, 70, 53, 66, 45, 39, 51, 59, 62, 64, 58, 28, 38, 22, 47, 28, 724]\n",
      "[210, 193, 305, 259, 282, 208, 113, 189, 166, 194, 196, 215, 157, 84, 108, 156, 164, 141, 94, 89, 48, 125, 53, 65, 46, 95, 46, 62, 38, 70, 76, 57, 49, 27, 52, 23, 62, 33, 38, 53, 29, 46, 58, 27, 21, 32, 20, 36, 28, 695]\n",
      "[320, 243, 300, 142, 110, 229, 238, 157, 93, 79, 192, 225, 133, 194, 71, 188, 130, 147, 144, 107, 59, 142, 114, 49, 54, 65, 93, 37, 47, 91, 72, 58, 69, 60, 68, 46, 36, 42, 39, 32, 52, 22, 56, 19, 50, 49, 28, 31, 19, 645]\n",
      "[58, 36, 23, 56, 44, 24, 21, 20, 22, 28, 28, 40, 31, 25, 22, 25, 19, 13, 13, 13, 31, 10, 12, 24, 13, 8, 12, 25, 21, 13, 12, 18, 9, 15, 5, 16, 7, 8, 12, 11, 10, 11, 10, 4, 10, 6, 10, 7, 5, 146]\n",
      "[36, 31, 11, 23, 16, 29, 9, 31, 14, 17, 20, 21, 13, 24, 8, 19, 17, 9, 11, 12, 5, 17, 8, 15, 7, 10, 12, 9, 8, 4, 6, 5, 9, 8, 6, 4, 8, 7, 4, 2, 6, 2, 3, 5, 2, 2, 2, 2, 3, 96]\n",
      "[105, 46, 67, 55, 60, 28, 75, 49, 77, 45, 56, 51, 41, 23, 21, 36, 50, 27, 27, 27, 19, 14, 39, 20, 20, 34, 13, 38, 18, 12, 14, 15, 32, 16, 27, 20, 21, 7, 25, 14, 21, 15, 15, 12, 6, 6, 9, 11, 10, 250]\n",
      "[42, 34, 14, 43, 33, 29, 29, 16, 21, 28, 12, 28, 10, 11, 8, 18, 7, 8, 12, 7, 12, 21, 14, 17, 17, 13, 5, 5, 5, 14, 12, 9, 13, 7, 8, 3, 11, 9, 6, 5, 4, 4, 3, 2, 3, 8, 8, 3, 5, 123]\n",
      "[47, 22, 28, 17, 42, 28, 42, 14, 26, 30, 10, 28, 18, 11, 9, 26, 22, 27, 16, 15, 21, 10, 15, 18, 6, 15, 10, 16, 15, 9, 10, 5, 11, 10, 8, 10, 4, 10, 8, 9, 9, 4, 7, 2, 6, 6, 4, 4, 6, 105]\n",
      "[28, 43, 56, 28, 39, 68, 76, 69, 25, 29, 62, 44, 50, 24, 19, 47, 47, 20, 14, 42, 25, 24, 22, 31, 13, 21, 30, 26, 13, 10, 19, 16, 10, 11, 7, 18, 15, 16, 12, 12, 5, 12, 10, 5, 6, 4, 8, 8, 9, 192]\n",
      "[9, 24, 8, 17, 22, 8, 8, 12, 16, 18, 5, 7, 18, 13, 15, 7, 11, 6, 9, 10, 4, 7, 5, 6, 4, 3, 9, 8, 3, 5, 4, 4, 2, 5, 3, 7, 3, 3, 5, 4, 3, 3, 4, 3, 5, 4, 2, 1, 2, 83]\n",
      "[33, 28, 14, 8, 26, 9, 21, 16, 11, 14, 13, 19, 18, 6, 16, 13, 15, 11, 12, 13, 6, 5, 8, 8, 6, 8, 4, 5, 8, 4, 7, 7, 6, 3, 3, 2, 3, 2, 3, 4, 4, 2, 1, 4, 1, 1, 1, 3, 4, 82]\n",
      "[43, 96, 80, 88, 77, 106, 89, 94, 31, 52, 28, 55, 34, 26, 23, 35, 38, 28, 58, 22, 24, 30, 26, 21, 31, 35, 46, 40, 20, 24, 14, 12, 26, 22, 29, 22, 10, 15, 24, 18, 28, 23, 8, 12, 9, 18, 8, 11, 19, 320]\n",
      "[27, 21, 28, 27, 24, 16, 26, 26, 8, 15, 11, 18, 9, 15, 11, 8, 18, 10, 15, 7, 7, 8, 10, 14, 10, 8, 13, 4, 6, 12, 6, 10, 6, 8, 4, 6, 9, 4, 5, 2, 2, 6, 2, 4, 4, 2, 5, 4, 5, 100]\n",
      "[16, 14, 12, 20, 9, 8, 17, 14, 15, 16, 5, 9, 9, 10, 8, 9, 10, 11, 8, 5, 5, 7, 5, 7, 6, 5, 6, 3, 4, 4, 6, 4, 1, 3, 3, 4, 4, 1, 3, 2, 3, 1, 3, 3, 1, 3, 1, 1, 1, 57]\n",
      "[28, 33, 25, 33, 25, 17, 25, 37, 19, 14, 15, 12, 10, 17, 17, 10, 13, 15, 9, 17, 11, 22, 10, 20, 10, 21, 17, 10, 17, 9, 15, 11, 7, 4, 8, 14, 10, 7, 12, 6, 3, 9, 5, 4, 5, 9, 3, 2, 4, 134]\n",
      "[81, 49, 26, 32, 85, 68, 54, 48, 20, 46, 39, 44, 18, 54, 29, 33, 32, 37, 17, 18, 41, 35, 13, 30, 33, 13, 26, 22, 18, 27, 24, 7, 15, 14, 10, 20, 10, 7, 11, 13, 10, 12, 11, 14, 13, 11, 11, 11, 10, 163]\n",
      "[83, 28, 67, 50, 35, 27, 22, 23, 48, 60, 21, 45, 51, 33, 27, 28, 19, 40, 28, 32, 34, 13, 17, 16, 30, 9, 27, 17, 17, 10, 25, 22, 7, 13, 15, 14, 12, 8, 6, 12, 8, 11, 15, 13, 7, 12, 10, 7, 8, 169]\n",
      "[175, 215, 119, 192, 125, 86, 63, 209, 143, 82, 150, 154, 157, 150, 62, 134, 56, 103, 69, 62, 54, 87, 39, 70, 58, 38, 43, 31, 47, 31, 45, 67, 54, 49, 21, 59, 20, 31, 39, 45, 40, 33, 14, 25, 26, 34, 18, 13, 30, 489]\n",
      "[43, 49, 72, 50, 37, 45, 45, 69, 43, 33, 20, 26, 36, 18, 45, 27, 39, 13, 14, 15, 25, 23, 37, 35, 29, 31, 20, 17, 23, 21, 15, 13, 22, 15, 21, 14, 7, 6, 11, 17, 16, 8, 13, 7, 5, 7, 9, 8, 7, 176]\n",
      "[21, 21, 22, 10, 6, 16, 9, 15, 8, 13, 7, 13, 11, 8, 10, 8, 11, 9, 8, 7, 10, 9, 5, 8, 4, 4, 2, 3, 3, 7, 4, 7, 3, 2, 3, 5, 4, 3, 3, 1, 3, 4, 3, 3, 4, 1, 3, 1, 1, 67]\n",
      "[38, 21, 19, 42, 15, 36, 33, 21, 26, 31, 24, 32, 10, 29, 19, 20, 22, 20, 7, 10, 18, 13, 11, 9, 6, 8, 16, 4, 5, 8, 4, 4, 6, 8, 12, 10, 6, 4, 3, 8, 5, 7, 4, 5, 6, 8, 2, 6, 4, 124]\n",
      "[160, 208, 78, 195, 180, 155, 113, 102, 47, 134, 45, 57, 116, 105, 65, 86, 68, 90, 60, 63, 59, 75, 75, 27, 55, 21, 29, 51, 54, 42, 55, 27, 22, 47, 43, 37, 23, 31, 21, 28, 28, 20, 17, 15, 16, 24, 20, 8, 11, 400]\n",
      "[81, 44, 95, 43, 84, 26, 38, 22, 41, 65, 43, 40, 18, 48, 37, 17, 36, 27, 37, 28, 37, 27, 24, 23, 19, 11, 27, 16, 32, 22, 12, 15, 22, 25, 23, 21, 19, 9, 7, 15, 8, 14, 8, 7, 11, 5, 11, 7, 11, 218]\n",
      "[71, 40, 104, 92, 79, 52, 88, 92, 67, 39, 39, 64, 70, 48, 27, 62, 32, 47, 35, 30, 26, 50, 43, 28, 38, 37, 15, 16, 20, 14, 18, 32, 30, 24, 16, 14, 13, 21, 17, 10, 6, 10, 18, 11, 9, 14, 7, 5, 7, 255]\n",
      "[50, 22, 29, 15, 30, 15, 13, 27, 26, 26, 12, 12, 29, 27, 15, 18, 26, 24, 24, 11, 14, 10, 20, 12, 7, 8, 5, 10, 13, 6, 13, 8, 4, 4, 7, 8, 12, 9, 10, 9, 3, 3, 2, 8, 2, 7, 4, 2, 6, 119]\n",
      "[39, 16, 23, 35, 13, 25, 12, 20, 29, 30, 34, 31, 10, 27, 23, 11, 10, 25, 13, 12, 8, 19, 11, 21, 7, 15, 11, 17, 8, 4, 9, 11, 7, 6, 13, 7, 7, 7, 7, 6, 9, 3, 4, 7, 8, 8, 7, 4, 6, 111]\n",
      "[15, 11, 19, 24, 20, 12, 13, 15, 9, 15, 13, 12, 4, 8, 5, 13, 11, 12, 9, 4, 11, 6, 7, 6, 6, 9, 4, 4, 8, 3, 4, 4, 3, 5, 5, 4, 4, 4, 4, 4, 4, 1, 2, 2, 2, 1, 3, 3, 1, 64]\n",
      "[50, 31, 19, 24, 18, 21, 26, 21, 11, 17, 20, 33, 17, 27, 17, 13, 24, 23, 15, 17, 16, 14, 15, 10, 6, 7, 6, 11, 10, 5, 10, 5, 4, 5, 7, 9, 8, 11, 9, 7, 5, 4, 6, 5, 3, 9, 7, 4, 5, 131]\n",
      "[29, 21, 10, 24, 9, 10, 9, 16, 14, 17, 6, 16, 14, 11, 9, 7, 8, 12, 7, 12, 10, 4, 6, 7, 3, 5, 6, 6, 7, 4, 2, 5, 4, 6, 4, 7, 2, 2, 2, 6, 5, 5, 5, 2, 1, 1, 2, 3, 1, 80]\n",
      "[48, 90, 85, 71, 61, 64, 70, 54, 24, 32, 28, 53, 51, 45, 42, 19, 16, 49, 22, 39, 40, 37, 36, 24, 20, 26, 24, 19, 20, 9, 8, 11, 24, 7, 13, 10, 16, 11, 7, 10, 15, 9, 5, 12, 12, 16, 9, 14, 8, 209]\n",
      "[19, 29, 52, 30, 39, 24, 39, 26, 18, 22, 10, 34, 24, 29, 22, 9, 22, 7, 21, 9, 10, 22, 13, 13, 13, 5, 7, 18, 10, 11, 6, 14, 7, 12, 9, 4, 5, 9, 8, 5, 8, 6, 7, 8, 2, 6, 4, 7, 6, 113]\n",
      "[26, 16, 21, 8, 22, 13, 14, 15, 17, 12, 14, 8, 11, 11, 9, 10, 10, 4, 6, 3, 10, 8, 3, 5, 8, 2, 5, 6, 8, 3, 2, 4, 2, 3, 2, 2, 6, 4, 2, 4, 3, 4, 3, 3, 4, 1, 2, 2, 2, 69]\n",
      "[75, 101, 37, 59, 52, 60, 79, 80, 55, 53, 64, 24, 23, 55, 46, 40, 35, 36, 13, 18, 35, 39, 18, 16, 36, 26, 13, 9, 22, 15, 28, 8, 13, 22, 12, 8, 7, 18, 20, 6, 12, 5, 6, 8, 12, 11, 4, 10, 13, 226]\n",
      "[92, 163, 85, 154, 148, 151, 93, 74, 124, 193, 125, 134, 113, 111, 151, 86, 110, 113, 70, 49, 93, 65, 55, 33, 70, 58, 66, 47, 77, 61, 63, 52, 46, 45, 36, 50, 52, 21, 48, 45, 43, 37, 26, 13, 17, 20, 30, 26, 26, 432]\n",
      "[9, 16, 7, 14, 11, 14, 10, 15, 19, 6, 16, 7, 13, 15, 11, 12, 6, 9, 5, 5, 5, 3, 10, 4, 4, 6, 3, 6, 6, 3, 2, 5, 7, 5, 6, 2, 2, 2, 2, 4, 1, 1, 1, 1, 2, 1, 1, 1, 1, 83]\n",
      "[37, 16, 17, 19, 11, 11, 13, 22, 10, 11, 8, 10, 13, 23, 12, 12, 21, 8, 20, 10, 5, 16, 14, 5, 5, 7, 13, 13, 9, 12, 9, 6, 10, 8, 6, 5, 8, 7, 4, 5, 3, 3, 2, 6, 2, 5, 2, 2, 5, 88]\n",
      "[74, 52, 35, 35, 31, 26, 54, 35, 36, 48, 52, 61, 36, 36, 42, 40, 19, 26, 38, 35, 33, 18, 16, 26, 32, 17, 26, 23, 30, 13, 11, 16, 25, 21, 23, 18, 11, 9, 17, 13, 17, 14, 12, 9, 12, 11, 7, 8, 8, 172]\n",
      "[24, 24, 11, 20, 13, 7, 18, 11, 8, 13, 9, 5, 9, 5, 14, 9, 13, 11, 12, 8, 8, 7, 7, 7, 4, 9, 4, 8, 5, 6, 4, 3, 6, 2, 5, 4, 2, 5, 3, 1, 1, 1, 2, 3, 4, 1, 2, 3, 3, 63]\n",
      "[18, 7, 9, 7, 15, 11, 11, 5, 4, 4, 12, 9, 6, 12, 10, 8, 8, 9, 9, 4, 5, 2, 2, 5, 4, 4, 2, 5, 2, 2, 5, 1, 2, 2, 4, 5, 1, 4, 4, 2, 2, 2, 3, 1, 3, 1, 3, 1, 2, 58]\n",
      "[18, 13, 22, 10, 23, 13, 20, 22, 8, 15, 5, 12, 14, 10, 9, 6, 13, 13, 7, 11, 7, 6, 7, 7, 4, 10, 7, 9, 7, 3, 8, 3, 5, 2, 6, 4, 3, 2, 2, 5, 4, 2, 4, 2, 3, 3, 4, 1, 1, 71]\n",
      "[154, 80, 69, 126, 75, 61, 127, 76, 109, 109, 68, 50, 43, 82, 29, 43, 28, 34, 65, 57, 47, 34, 20, 30, 19, 25, 42, 42, 30, 35, 30, 33, 40, 19, 25, 22, 22, 19, 30, 14, 11, 10, 18, 16, 13, 7, 9, 16, 11, 361]\n",
      "[22, 8, 11, 12, 19, 19, 23, 20, 8, 10, 7, 19, 11, 5, 13, 12, 4, 15, 5, 7, 11, 4, 12, 6, 4, 4, 9, 3, 4, 4, 3, 5, 7, 4, 2, 4, 6, 4, 2, 4, 3, 2, 5, 3, 4, 3, 3, 4, 2, 83]\n",
      "[119, 116, 83, 54, 84, 93, 70, 62, 80, 55, 44, 64, 60, 49, 43, 32, 42, 26, 40, 21, 42, 33, 33, 26, 29, 15, 29, 19, 17, 22, 12, 20, 18, 11, 10, 8, 13, 15, 6, 13, 10, 10, 14, 11, 12, 12, 10, 6, 3, 182]\n",
      "[23, 21, 22, 11, 10, 19, 9, 14, 14, 11, 13, 6, 7, 11, 17, 13, 8, 4, 6, 12, 9, 8, 10, 9, 8, 8, 3, 4, 5, 6, 5, 2, 3, 3, 4, 5, 6, 2, 3, 6, 3, 3, 2, 2, 5, 1, 3, 4, 2, 81]\n",
      "[12, 16, 19, 19, 14, 6, 5, 15, 7, 13, 11, 11, 10, 8, 3, 10, 8, 6, 4, 7, 3, 3, 7, 8, 3, 4, 6, 2, 6, 5, 5, 3, 3, 5, 5, 2, 2, 4, 4, 4, 1, 1, 4, 1, 3, 1, 1, 2, 3, 63]\n",
      "[10, 30, 30, 21, 25, 10, 7, 15, 21, 11, 10, 15, 5, 17, 8, 11, 9, 13, 12, 13, 6, 7, 12, 3, 9, 9, 5, 6, 6, 3, 5, 7, 2, 4, 5, 2, 4, 5, 3, 4, 3, 3, 4, 5, 5, 1, 3, 4, 3, 74]\n",
      "[76, 135, 137, 67, 92, 64, 67, 73, 96, 78, 53, 75, 78, 69, 70, 21, 58, 26, 40, 23, 33, 30, 32, 49, 45, 46, 21, 25, 20, 15, 35, 25, 13, 28, 25, 12, 28, 28, 9, 7, 17, 9, 22, 12, 17, 13, 10, 6, 5, 285]\n",
      "[21, 25, 25, 19, 13, 10, 18, 9, 10, 8, 10, 8, 13, 12, 9, 13, 12, 7, 4, 7, 8, 10, 6, 9, 2, 3, 8, 5, 2, 4, 4, 5, 4, 5, 4, 3, 2, 3, 5, 3, 3, 3, 4, 1, 1, 4, 3, 3, 2, 65]\n",
      "[166, 157, 172, 89, 85, 125, 84, 107, 51, 62, 74, 110, 38, 54, 70, 43, 75, 28, 59, 31, 64, 42, 38, 71, 53, 66, 57, 51, 21, 36, 50, 31, 25, 24, 33, 36, 33, 23, 11, 33, 9, 16, 22, 11, 21, 16, 16, 17, 21, 338]\n",
      "[20, 17, 18, 13, 9, 20, 14, 17, 9, 19, 16, 19, 14, 9, 16, 12, 11, 5, 4, 11, 5, 5, 3, 9, 3, 10, 4, 10, 3, 8, 4, 2, 4, 7, 4, 2, 7, 4, 2, 3, 2, 4, 2, 3, 1, 1, 5, 1, 5, 86]\n",
      "[12, 11, 24, 23, 7, 22, 14, 15, 14, 9, 11, 17, 8, 16, 6, 13, 15, 11, 4, 10, 4, 3, 10, 4, 11, 10, 8, 3, 6, 3, 5, 8, 4, 3, 4, 2, 6, 2, 5, 4, 5, 1, 2, 4, 1, 3, 1, 3, 4, 77]\n",
      "[11, 27, 11, 20, 21, 9, 7, 14, 12, 8, 19, 11, 10, 6, 9, 5, 8, 8, 9, 7, 8, 7, 4, 7, 12, 12, 3, 10, 10, 9, 8, 2, 3, 8, 6, 7, 5, 6, 6, 2, 1, 1, 2, 4, 3, 4, 4, 3, 1, 77]\n",
      "[9, 9, 28, 14, 19, 18, 17, 9, 10, 15, 12, 13, 13, 12, 8, 8, 6, 6, 6, 7, 9, 11, 4, 5, 8, 8, 10, 7, 4, 7, 5, 3, 8, 4, 7, 5, 5, 5, 4, 3, 4, 4, 5, 4, 2, 4, 2, 1, 4, 79]\n",
      "[16, 7, 20, 21, 10, 13, 16, 7, 8, 5, 5, 13, 13, 4, 13, 8, 9, 9, 4, 8, 6, 7, 4, 9, 3, 3, 3, 5, 7, 7, 3, 2, 4, 6, 2, 1, 3, 2, 3, 1, 3, 1, 2, 2, 1, 4, 4, 3, 2, 69]\n",
      "[27, 11, 9, 16, 18, 15, 6, 20, 13, 13, 14, 13, 11, 7, 7, 14, 4, 7, 14, 6, 6, 12, 7, 9, 9, 5, 7, 4, 6, 2, 4, 6, 2, 7, 4, 5, 5, 5, 3, 2, 5, 1, 4, 3, 2, 2, 1, 3, 4, 71]\n"
     ]
    }
   ],
   "source": [
    "np.random.seed(1)\n",
    "range_in_label = []\n",
    "\n",
    "for i in range(NUM_LABEL):\n",
    "    tmp = []\n",
    "    total = len(data_by_label[i])\n",
    "    for j in range(INTERVAL-1):\n",
    "        val = np.random.randint(total//(INTERVAL + 1), total//15)\n",
    "        tmp.append(val)\n",
    "        total -= val\n",
    "    tmp.append(total)\n",
    "    range_in_label.append(tmp)\n",
    "\n",
    "for i in range_in_label:\n",
    "    print(i)"
   ]
  },
  {
   "cell_type": "code",
   "execution_count": 30,
   "id": "2ee3bffe",
   "metadata": {},
   "outputs": [
    {
     "name": "stdout",
     "output_type": "stream",
     "text": [
      "[0, 1, 2, 3, 4, 5, 6, 7, 8, 9, 10, 11]\n",
      "[12, 13, 14, 15, 16, 17, 18, 19, 20, 21, 22, 23]\n",
      "[24, 25, 26, 27, 28, 29, 30, 31, 32, 33, 34, 35]\n",
      "[36, 37, 38, 39, 40, 41, 42, 43, 44, 45, 46, 47]\n",
      "[48, 49, 50, 51, 52, 53, 54, 55, 56, 57, 58, 59]\n",
      "[60, 61, 62, 63, 64, 65, 66, 67, 68, 69, 70, 71]\n",
      "[72, 73, 74, 75, 76, 77, 78, 79, 80, 81, 82, 83]\n",
      "[84, 85, 86, 87, 88, 89, 90, 91, 92, 93, 94, 95]\n",
      "[96, 97, 98, 99, 100, 101, 102, 103, 104, 105, 106, 107]\n",
      "[108, 109, 110, 111, 112, 113, 114, 115, 116, 117, 118, 119]\n"
     ]
    }
   ],
   "source": [
    "a = []\n",
    "for i in range(10):\n",
    "    a.append([])\n",
    "    for j in range(12):\n",
    "        a[i].append(i*12+j)\n",
    "for i in a:\n",
    "    print(i)"
   ]
  },
  {
   "cell_type": "code",
   "execution_count": 49,
   "id": "58b9650a",
   "metadata": {
    "collapsed": true
   },
   "outputs": [
    {
     "data": {
      "text/plain": [
       "[0,\n",
       " 1,\n",
       " 2,\n",
       " 3,\n",
       " 4,\n",
       " 5,\n",
       " 6,\n",
       " 7,\n",
       " 8,\n",
       " 9,\n",
       " 10,\n",
       " 11,\n",
       " 12,\n",
       " 13,\n",
       " 14,\n",
       " 15,\n",
       " 16,\n",
       " 17,\n",
       " 18,\n",
       " 19,\n",
       " 20,\n",
       " 21,\n",
       " 22,\n",
       " 23,\n",
       " 24,\n",
       " 25,\n",
       " 26,\n",
       " 27,\n",
       " 28,\n",
       " 29,\n",
       " 30,\n",
       " 31,\n",
       " 32,\n",
       " 33,\n",
       " 34,\n",
       " 35,\n",
       " 36,\n",
       " 37,\n",
       " 38,\n",
       " 39,\n",
       " 40,\n",
       " 41,\n",
       " 42,\n",
       " 43,\n",
       " 44,\n",
       " 45,\n",
       " 46,\n",
       " 47,\n",
       " 48,\n",
       " 49,\n",
       " 50,\n",
       " 51,\n",
       " 52,\n",
       " 53,\n",
       " 54,\n",
       " 55,\n",
       " 56,\n",
       " 57,\n",
       " 58,\n",
       " 59]"
      ]
     },
     "execution_count": 49,
     "metadata": {},
     "output_type": "execute_result"
    }
   ],
   "source": [
    "# dict = {'1': [1,1,1], '2': [2,2,2]}\n",
    "# s = set(dict.keys())\n",
    "# s.remove('1')\n",
    "# s\n",
    "c = set(range(60))\n",
    "list(c)"
   ]
  },
  {
   "cell_type": "code",
   "execution_count": 53,
   "id": "85fa1672",
   "metadata": {
    "scrolled": true
   },
   "outputs": [
    {
     "ename": "KeyboardInterrupt",
     "evalue": "",
     "output_type": "error",
     "traceback": [
      "\u001b[0;31m---------------------------------------------------------------------------\u001b[0m",
      "\u001b[0;31mKeyboardInterrupt\u001b[0m                         Traceback (most recent call last)",
      "\u001b[0;32m<ipython-input-53-e9555da5aacf>\u001b[0m in \u001b[0;36m<module>\u001b[0;34m\u001b[0m\n\u001b[1;32m      9\u001b[0m     \u001b[0mc\u001b[0m \u001b[0;34m=\u001b[0m \u001b[0mi\u001b[0m\u001b[0;34m%\u001b[0m\u001b[0;36m12\u001b[0m\u001b[0;34m\u001b[0m\u001b[0;34m\u001b[0m\u001b[0m\n\u001b[1;32m     10\u001b[0m     \u001b[0;32mwhile\u001b[0m \u001b[0;32mTrue\u001b[0m\u001b[0;34m:\u001b[0m\u001b[0;34m\u001b[0m\u001b[0;34m\u001b[0m\u001b[0m\n\u001b[0;32m---> 11\u001b[0;31m         \u001b[0mu\u001b[0m \u001b[0;34m=\u001b[0m \u001b[0mnp\u001b[0m\u001b[0;34m.\u001b[0m\u001b[0mrandom\u001b[0m\u001b[0;34m.\u001b[0m\u001b[0mchoice\u001b[0m\u001b[0;34m(\u001b[0m\u001b[0mlist\u001b[0m\u001b[0;34m(\u001b[0m\u001b[0mclient\u001b[0m\u001b[0;34m)\u001b[0m\u001b[0;34m)\u001b[0m\u001b[0;34m\u001b[0m\u001b[0;34m\u001b[0m\u001b[0m\n\u001b[0m\u001b[1;32m     12\u001b[0m         \u001b[0mls\u001b[0m \u001b[0;34m=\u001b[0m \u001b[0mset\u001b[0m\u001b[0;34m(\u001b[0m\u001b[0mdata_user\u001b[0m\u001b[0;34m[\u001b[0m\u001b[0mu\u001b[0m\u001b[0;34m]\u001b[0m\u001b[0;34m)\u001b[0m\u001b[0;34m\u001b[0m\u001b[0;34m\u001b[0m\u001b[0m\n\u001b[1;32m     13\u001b[0m         \u001b[0;32mif\u001b[0m \u001b[0mlen\u001b[0m\u001b[0;34m(\u001b[0m\u001b[0mls\u001b[0m\u001b[0;34m)\u001b[0m \u001b[0;34m<\u001b[0m \u001b[0;36m2\u001b[0m\u001b[0;34m:\u001b[0m\u001b[0;34m\u001b[0m\u001b[0;34m\u001b[0m\u001b[0m\n",
      "\u001b[0;31mKeyboardInterrupt\u001b[0m: "
     ]
    }
   ],
   "source": [
    "data_user = {}\n",
    "client = set(range(60))\n",
    "\n",
    "for i in range(60):\n",
    "    data_user[i] = {}\n",
    "\n",
    "for i in range(120):\n",
    "    l = i//12\n",
    "    c = i%12\n",
    "    while True:\n",
    "        u = np.random.choice(list(client))\n",
    "        ls = set(data_user[u])\n",
    "        if len(ls) < 2:\n",
    "            if l not in ls:\n",
    "                data_user[u][l] = a[l][c]\n",
    "                break\n",
    "        else:\n",
    "            client.remove(u)\n",
    "data_user"
   ]
  },
  {
   "cell_type": "code",
   "execution_count": null,
   "id": "09e72e68",
   "metadata": {},
   "outputs": [
    {
     "name": "stdout",
     "output_type": "stream",
     "text": [
      "1 2 3 4 5 6 7 8 9 10 11 12 13 14 15 16 17 18 19 20 21 22 23 24 25 26 27 28 29 30 31 32 33 34 35 36 37 38 39 40 41 42 43 44 45 46 47 48 49 50 51 52 53 54 55 56 57 58 59 60 61 62 63 64 65 66 67 68 69 70 71 72 73 74 75 76 77 78 79 80 81 82 83 84 85 86 87 88 89 90 91 92 93 94 95 96 97 98 99 100 101 102 103 104 105 106 107 108 109 110 111 112 113 114 115 116 117 118 119 120 121 122 123 124 125 126 127 128 129 130 131 132 133 134 135 136 137 138 139 140 141 142 143 144 145 146 147 148 149 150 151 152 153 154 155 156 157 158 159 160 161 162 163 164 165 166 167 168 169 170 171 172 173 174 175 176 177 178 179 180 181 182 183 184 185 186 187 188 189 190 191 192 193 194 195 196 197 198 199 200 201 202 203 204 205 206 207 208 209 210 211 212 213 214 215 216 217 218 219 220 221 222 223 224 225 226 227 228 229 230 231 232 233 234 235 236 237 238 239 240 241 242 243 244 245 246 247 248 249 250 251 252 253 254 255 256 257 258 259 260 261 262 263 264 265 266 267 268 269 270 271 272 273 274 275 276 277 278 279 280 281 282 283 284 285 286 287 288 289 290 291 292 293 294 295 296 297 298 299 300 301 302 303 304 305 306 307 308 309 310 311 312 313 314 315 316 317 318 319 320 321 322 323 324 325 326 327 328 329 330 331 332 333 334 335 336 337 338 339 340 341 342 343 344 345 346 347 348 349 350 351 352 353 354 355 356 357 358 359 360 361 362 363 364 365 366 367 368 369 370 371 372 373 374 375 376 377 378 379 380 381 382 383 384 385 386 387 388 389 390 391 392 393 394 395 396 397 398 399 400 401 402 403 404 405 406 407 408 409 410 411 412 413 414 415 416 417 418 419 420 421 422 423 424 425 426 427 428 429 430 431 432 433 434 435 436 437 438 439 440 441 442 443 444 445 446 447 448 449 450 451 452 453 454 455 456 457 458 459 460 461 462 463 464 465 466 467 468 469 470 471 472 473 474 475 476 477 478 479 480 481 482 483 484 485 486 487 488 489 490 491 492 493 494 495 496 497 498 499 500 501 502 503 504 505 506 507 508 509 510 511 512 513 514 515 516 517 518 519 520 521 522 523 524 525 526 527 528 529 530 531 532 533 534 535 536 537 538 539 540 541 542 543 544 545 546 547 548 549 550 551 552 553 554 555 556 557 558 559 560 561 562 563 564 565 566 567 568 569 570 571 572 573 574 575 576 577 578 579 580 581 582 583 584 585 586 587 588 589 590 591 592 593 594 595 596 597 598 599 600 601 602 603 604 605 606 607 608 609 610 611 612 613 614 615 616 617 618 619 620 621 622 623 624 625 626 627 628 629 630 631 632 633 634 635 636 637 638 639 640 641 642 643 644 645 646 647 648 649 650 651 652 653 654 655 656 657 658 659 660 661 662 663 664 665 666 667 668 669 670 671 672 673 674 675 676 677 678 679 680 681 682 683 684 685 686 687 688 689 690 691 692 693 694 695 696 697 698 699 700 701 702 703 704 705 706 707 708 709 710 711 712 713 714 715 716 717 718 719 720 721 722 723 724 725 726 727 728 729 730 731 732 733 734 735 736 737 738 739 740 741 742 743 744 745 746 747 748 749 750 751 752 753 754 755 756 757 758 759 760 761 762 763 764 765 766 767 768 769 770 771 772 773 774 775 776 777 778 779 780 781 782 783 784 785 786 787 788 789 790 791 792 793 794 795 796 797 798 799 800 801 802 803 804 805 806 807 808 809 810 811 812 813 814 815 816 817 818 819 820 821 822 823 824 825 826 827 828 829 830 831 832 833 834 835 836 837 838 839 840 841 842 843 844 845 846 847 848 849 850 851 852 853 854 855 856 857 858 859 860 861 862 863 864 865 866 867 868 869 870 871 872 873 874 875 876 877 878 879 880 881 882 883 884 885 886 887 888 889 890 891 892 893 894 895 896 897 898 899 900 901 902 903 904 905 906 907 908 909 910 911 912 913 914 915 916 917 918 919 920 921 922 923 924 925 926 927 928 929 930 931 932 933 934 935 936 937 938 939 940 941 942 943 944 945 946 947 948 949 950 951 952 953 954 955 956 957 958 959 960 961 962 963 964 965 966 967 968 969 970 971 972 973 974 975 976 977 978 979 980 981 982 983 984 985 986 987 988 989 990 991 992 993 994 995 996 997 998 999 1000 1001 1002 1003 1004 1005 1006 1007 1008 1009 1010 1011 1012 1013 1014 1015 1016 1017 1018 1019 1020 1021 1022 1023 1024 1025 1026 1027 1028 1029 1030 1031 1032 1033 1034 1035 1036 1037 1038 1039 1040 1041 1042 1043 1044 1045 1046 1047 1048 1049 1050 1051 1052 1053 1054 1055 1056 1057 1058 1059 1060 1061 1062 1063 1064 1065 1066 1067 1068 1069 1070 1071 1072 1073 1074 1075 1076 1077 1078 1079 1080 1081 1082 1083 1084 1085 1086 1087 1088 1089 1090 1091 1092 1093 1094 1095 1096 1097 1098 1099 1100 1101 1102 1103 1104 1105 1106 1107 1108 1109 1110 1111 1112 1113 1114 1115 1116 1117 1118 1119 1120 1121 1122 1123 1124 1125 1126 1127 1128 1129 1130 1131 1132 1133 1134 1135 1136 1137 1138 1139 1140 1141 1142 1143 1144 1145 1146 1147 1148 1149 1150 1151 1152 1153 1154 1155 1156 1157 1158 1159 1160 1161 1162 1163 1164 1165 1166 1167 1168 1169 1170 1171 1172 1173 1174 1175 1176 1177 1178 1179 1180 1181 1182 1183 1184 1185 1186 1187 1188 1189 1190 1191 1192 1193 1194 1195 1196 1197 1198 1199 1200 1201 1202 1203 1204 1205 1206 1207 1208 1209 1210 1211 1212 1213 1214 1215 1216 1217 1218 1219 1220 1221 1222 1223 1224 1225 1226 1227 1228 1229 1230 1231 1232 1233 1234 1235 1236 1237 1238 1239 1240 1241 1242 1243 1244 1245 1246 1247 1248 1249 1250 1251 1252 1253 1254 1255 1256 1257 1258 1259 1260 1261 1262 1263 1264 1265 1266 1267 1268 1269 1270 1271 1272 1273 1274 1275 1276 1277 1278 1279 1280 1281 1282 1283 1284 1285 1286 1287 1288 1289 1290 1291 1292 1293 1294 1295 1296 1297 1298 1299 1300 1301 1302 1303 1304 1305 1306 1307 1308 1309 1310 1311 1312 1313 1314 1315 1316 1317 1318 1319 1320 1321 1322 1323 1324 1325 1326 1327 1328 1329 1330 1331 1332 1333 1334 1335 1336 1337 1338 1339 1340 1341 1342 1343 1344 1345 1346 1347 1348 1349 1350 1351 1352 1353 1354 1355 1356 1357 1358 1359 1360 1361 1362 1363 1364 1365 1366 1367 1368 1369 1370 1371 1372 1373 1374 1375 1376 1377 1378 1379 1380 1381 1382 1383 1384 1385 1386 1387 1388 1389 1390 1391 1392 1393 1394 1395 1396 1397 1398 1399 1400 1401 1402 1403 1404 1405 1406 1407 1408 1409 1410 1411 1412 1413 1414 1415 1416 1417 1418 1419 1420 1421 1422 1423 1424 1425 1426 1427 1428 1429 1430 1431 1432 1433 1434 1435 1436 1437 1438 1439 1440 1441 1442 1443 1444 1445 1446 1447 1448 1449 1450 1451 1452 1453 1454 1455 1456 1457 1458 1459 1460 1461 1462 1463 1464 1465 1466 1467 1468 1469 1470 1471 1472 1473 1474 1475 1476 1477 1478 1479 1480 1481 1482 1483 1484 1485 1486 1487 1488 1489 1490 1491 1492 1493 1494 1495 1496 1497 1498 1499 1500 1501 1502 1503 1504 1505 1506 1507 1508 1509 1510 1511 1512 1513 1514 1515 1516 1517 1518 1519 1520 1521 1522 1523 1524 1525 1526 1527 1528 1529 1530 1531 1532 1533 1534 1535 1536 1537 1538 1539 1540 1541 1542 1543 1544 1545 1546 1547 1548 1549 1550 1551 1552 1553 1554 1555 1556 1557 1558 1559 1560 1561 1562 1563 1564 1565 1566 1567 1568 1569 1570 1571 1572 1573 1574 1575 1576 1577 1578 1579 1580 1581 1582 1583 1584 1585 1586 1587 1588 1589 1590 1591 1592 1593 1594 1595 1596 1597 1598 1599 1600 1601 1602 1603 1604 1605 1606 1607 1608 1609 1610 1611 1612 1613 1614 1615 1616 1617 1618 1619 1620 1621 1622 1623 1624 1625 1626 1627 1628 1629 1630 1631 1632 1633 1634 1635 1636 1637 1638 1639 1640 1641 1642 1643 1644 1645 1646 1647 1648 1649 1650 1651 1652 1653 1654 1655 1656 1657 1658 1659 1660 1661 1662 1663 1664 1665 1666 1667 1668 1669 1670 1671 1672 1673 1674 1675 1676 1677 1678 1679 1680 1681 1682 1683 1684 1685 1686 1687 1688 1689 1690 1691 1692 1693 1694 1695 1696 1697 1698 1699 1700 1701 1702 1703 1704 1705 1706 1707 1708 1709 1710 1711 1712 1713 1714 1715 1716 1717 1718 1719 1720 1721 1722 1723 1724 1725 1726 1727 1728 1729 1730 1731 1732 1733 1734 1735 1736 1737 1738 1739 1740 1741 1742 1743 1744 1745 1746 1747 1748 1749 1750 1751 1752 1753 1754 1755 1756 1757 1758 1759 1760 1761 1762 1763 1764 1765 1766 1767 1768 1769 1770 1771 1772 1773 1774 1775 1776 1777 1778 1779 1780 1781 1782 1783 1784 1785 1786 1787 1788 1789 1790 1791 1792 1793 1794 1795 1796 1797 1798 1799 1800 1801 1802 1803 1804 1805 1806 1807 1808 1809 1810 1811 1812 1813 1814 1815 1816 1817 1818 1819 1820 1821 1822 1823 1824 1825 1826 1827 1828 1829 1830 1831 1832 1833 1834 1835 1836 1837 1838 1839 1840 1841 1842 1843 1844 1845 1846 1847 1848 1849 1850 1851 1852 1853 1854 1855 1856 1857 1858 1859 1860 1861 1862 1863 1864 1865 1866 1867"
     ]
    },
    {
     "name": "stdout",
     "output_type": "stream",
     "text": [
      " 1868 1869 1870 1871 1872 1873 1874 1875 1876 1877 1878 1879 1880 1881 1882 1883 1884 1885 1886 1887 1888 1889 1890 1891 1892 1893 1894 1895 1896 1897 1898 1899 1900 1901 1902 1903 1904 1905 1906 1907 1908 1909 1910 1911 1912 1913 1914 1915 1916 1917 1918 1919 1920 1921 1922 1923 1924 1925 1926 1927 1928 1929 1930 1931 1932 1933 1934 1935 1936 1937 1938 1939 1940 1941 1942 1943 1944 1945 1946 1947 1948 1949 1950 1951 1952 1953 1954 1955 1956 1957 1958 1959 1960 1961 1962 1963 1964 1965 1966 1967 1968 1969 1970 1971 1972 1973 1974 1975 1976 1977 1978 1979 1980 1981 1982 1983 1984 1985 1986 1987 1988 1989 1990 1991 1992 1993 1994 1995 1996 1997 1998 1999 2000 2001 2002 2003 2004 2005 2006 2007 2008 2009 2010 2011 2012 2013 2014 2015 2016 2017 2018 2019 2020 2021 2022 2023 2024 2025 2026 2027 2028 2029 2030 2031 2032 2033 2034 2035 2036 2037 2038 2039 2040 2041 2042 2043 2044 2045 2046 2047 2048 2049 2050 2051 2052 2053 2054 2055 2056 2057 2058 2059 2060 2061 2062 2063 2064 2065 2066 2067 2068 2069 2070 2071 2072 2073 2074 2075 2076 2077 2078 2079 2080 2081 2082 2083 2084 2085 2086 2087 2088 2089 2090 2091 2092 2093 2094 2095 2096 2097 2098 2099 2100 2101 2102 2103 2104 2105 2106 2107 2108 2109 2110 2111 2112 2113 2114 2115 2116 2117 2118 2119 2120 2121 2122 2123 2124 2125 2126 2127 2128 2129 2130 2131 2132 2133 2134 2135 2136 2137 2138 2139 2140 2141 2142 2143 2144 2145 2146 2147 2148 2149 2150 2151 2152 2153 2154 2155 2156 2157 2158 2159 2160 2161 2162 2163 2164 2165 2166 2167 2168 2169 2170 2171 2172 2173 2174 2175 2176 2177 2178 2179 2180 2181 2182 2183 2184 2185 2186 2187 2188 2189 2190 2191 2192 2193 2194 2195 2196 2197 2198 2199 2200 2201 2202 2203 2204 2205 2206 2207 2208 2209 2210 2211 2212 2213 2214 2215 2216 2217 2218 2219 2220 2221 2222 2223 2224 2225 2226 2227 2228 2229 2230 2231 2232 2233 2234 2235 2236 2237 2238 2239 2240 2241 2242 2243 2244 2245 2246 2247 2248 2249 2250 2251 2252 2253 2254 2255 2256 2257 2258 2259 2260 2261 2262 2263 2264 2265 2266 2267 2268 2269 2270 2271 2272 2273 2274 2275 2276 2277 2278 2279 2280 2281 2282 2283 2284 2285 2286 2287 2288 2289 2290 2291 2292 2293 2294 2295 2296 2297 2298 2299 2300 2301 2302 2303 2304 2305 2306 2307 2308 2309 2310 2311 2312 2313 2314 2315 2316 2317 2318 2319 2320 2321 2322 2323 2324 2325 2326 2327 2328 2329 2330 2331 2332 2333 2334 2335 2336 2337 2338 2339 2340 2341 2342 2343 2344 2345 2346 2347 2348 2349 2350 2351 2352 2353 2354 2355 2356 2357 2358 2359 2360 2361 2362 2363 2364 2365 2366 2367 2368 2369 2370 2371 2372 2373 2374 2375 2376 2377 2378 2379 2380 2381 2382 2383 2384 2385 2386 2387 2388 2389 2390 2391 2392 2393 2394 2395 2396 2397 2398 2399 2400 2401 2402 2403 2404 2405 2406 2407 2408 2409 2410 2411 2412 2413 2414 2415 2416 2417 2418 2419 2420 2421 2422 2423 2424 2425 2426 2427 2428 2429 2430 2431 2432 2433 2434 2435 2436 2437 2438 2439 2440 2441 2442 2443 2444 2445 2446 2447 2448 2449 2450 2451 2452 2453 2454 2455 2456 2457 2458 2459 2460 2461 2462 2463 2464 2465 2466 2467 2468 2469 2470 2471 2472 2473 2474 2475 2476 2477 2478 2479 2480 2481 2482 2483 2484 2485 2486 2487 2488 2489 2490 2491 2492 2493 2494 2495 2496 2497 2498 2499 2500 2501 2502 2503 2504 2505 2506 2507 2508 2509 2510 2511 2512 2513 2514 2515 2516 2517 2518 2519 2520 2521 2522 2523 2524 2525 2526 2527 2528 2529 2530 2531 2532 2533 2534 2535 2536 2537 2538 2539 2540 2541 2542 2543 2544 2545 2546 2547 2548 2549 2550 2551 2552 2553 2554 2555 2556 2557 2558 2559 2560 2561 2562 2563 2564 2565 2566 2567 2568 2569 2570 2571 2572 2573 2574 2575 2576 2577 2578 2579 2580 2581 2582 2583 2584 2585 2586 2587 2588 2589 2590 2591 2592 2593 2594 2595 2596 2597 2598 2599 2600 2601 2602 2603 2604 2605 2606 2607 2608 2609 2610 2611 2612 2613 2614 2615 2616 2617 2618 2619 2620 2621 2622 2623 2624 2625 2626 2627 2628 2629 2630 2631 2632 2633 2634 2635 2636 2637 2638 2639 2640 2641 2642 2643 2644 2645 2646 2647 2648 2649 2650 2651 2652 2653 2654 2655 2656 2657 2658 2659 2660 2661 2662 2663 2664 2665 2666 2667 2668 2669 2670 2671 2672 2673 2674 2675 2676 2677 2678 2679 2680 2681 2682 2683 2684 2685 2686 2687 2688 2689 2690 2691 2692 2693 2694 2695 2696 2697 2698 2699 2700 2701 2702 2703 2704 2705 2706 2707 2708 2709 2710 2711 2712 2713 2714 2715 2716 2717 2718 2719 2720 2721 2722 2723 2724 2725 2726 2727 2728 2729 2730 2731 2732 2733 2734 2735 2736 2737 2738 2739 2740 2741 2742 2743 2744 2745 2746 2747 2748 2749 2750 2751 2752 2753 2754 2755 2756 2757 2758 2759 2760 2761 2762 2763 2764 2765 2766 2767 2768 2769 2770 2771 2772 2773 2774 2775 2776 2777 2778 2779 2780 2781 2782 2783 2784 2785 2786 2787 2788 2789 2790 2791 2792 2793 2794 2795 2796 2797 2798 2799 2800 2801 2802 2803 2804 2805 2806 2807 2808 2809 2810 2811 2812 2813 2814 2815 2816 2817 2818 2819 2820 2821 2822 2823 2824 2825 2826 2827 2828 2829 2830 2831 2832 2833 2834 2835 2836 2837 2838 2839 2840 2841 2842 2843 2844 2845 2846 2847 2848 2849 2850 2851 2852 2853 2854 2855 2856 2857 2858 2859 2860 2861 2862 2863 2864 2865 2866 2867 2868 2869 2870 2871 2872 2873 2874 2875 2876 2877 2878 2879 2880 2881 2882 2883 2884 2885 2886 2887 2888 2889 2890 2891 2892 2893 2894 2895 2896 2897 2898 2899 2900 2901 2902 2903 2904 2905 2906 2907 2908 2909 2910 2911 2912 2913 2914 2915 2916 2917 2918 2919 2920 2921 2922 2923 2924 2925 2926 2927 2928 2929 2930 2931 2932 2933 2934 2935 2936 2937 2938 2939 2940 2941 2942 2943 2944 2945 2946 2947 2948 2949 2950 2951 2952 2953 2954 2955 2956 2957 2958 2959 2960 2961 2962 2963 2964 2965 2966 2967 2968 2969 2970 2971 2972 2973 2974 2975 2976 2977 2978 2979 2980 2981 2982 2983 2984 2985 2986 2987 2988 2989 2990 2991 2992 2993 2994 2995 2996 2997 2998 2999 3000 3001 3002 3003 3004 3005 3006 3007 3008 3009 3010 3011 3012 3013 3014 3015 3016 3017 3018 3019 3020 3021 3022 3023 3024 3025 3026 3027 3028 3029 3030 3031 3032 3033 3034 3035 3036 3037 3038 3039 3040 3041 3042 3043 3044 3045 3046 3047 3048 3049 3050 3051 3052 3053 3054 3055 3056 3057 3058 3059 3060 3061 3062 3063 3064 3065 3066 3067 3068 3069 3070 3071 3072 3073 3074 3075 3076 3077 3078 3079 3080 3081 3082 3083 3084 3085 3086 3087 3088 3089 3090 3091 3092 3093 3094 3095 3096 3097 3098 3099 3100 3101 3102 3103 3104 3105 3106 3107 3108 3109 3110 3111 3112 3113 3114 3115 3116 3117 3118 3119 3120 3121 3122 3123 3124 3125 3126 3127 3128 3129 3130 3131 3132 3133 3134 3135 3136 3137 3138 3139 3140 3141 3142 3143 3144 3145 3146 3147 3148 3149 3150 3151 3152 3153 3154 3155 3156 3157 3158 3159 3160 3161 3162 3163 3164 3165 3166 3167 3168 3169 3170 3171 3172 3173 3174 3175 3176 3177 3178 3179 3180 3181 3182 3183 3184 3185 3186 3187 3188 3189 3190 3191 3192 3193 3194 3195 3196 3197 3198 3199 3200 3201 3202 3203 3204 3205 3206 3207 3208 3209 3210 3211 3212 3213 3214 3215 3216 3217 3218 3219 3220 3221 3222 3223 3224 3225 3226 3227 3228 3229 3230 3231 3232 3233 3234 3235 3236 3237 3238 3239 3240 3241 3242 3243 3244 3245 3246 3247 3248 3249 3250 3251 3252 3253 3254 3255 3256 3257 3258 3259 3260 3261 3262 3263 3264 3265 3266 3267 3268 3269 3270 3271 3272 3273 3274 3275 3276 3277 3278 3279 3280 3281 3282 3283 3284 3285 3286 3287 3288 3289 3290 3291 3292 3293 3294 3295 3296 3297 3298 3299 3300 3301 3302 3303 3304 3305 3306 3307 3308 3309 3310 3311 3312 3313 3314 3315 3316 3317 3318 3319 3320 3321 3322 3323 3324 3325 3326 3327 3328 3329 3330 3331 3332 3333 3334 3335 3336 3337 3338 3339 3340 3341 3342 3343 3344 3345 3346 3347 3348 3349 3350 3351 3352 3353 3354 3355 3356 3357 3358 3359 3360 3361 3362 3363 3364 3365 3366 3367 3368 3369 3370 3371 3372 3373 3374 3375 3376 3377 3378 3379 3380 3381 3382 3383 3384 3385 3386 3387 3388 3389 3390 3391 3392 3393 3394 3395 3396 3397 3398 3399 3400 3401 3402 3403 3404 3405 3406 3407 3408 3409 3410 3411 3412 3413 3414 3415 3416 3417 3418 3419 3420 3421 3422 3423 3424 3425 3426 3427 3428 3429 3430 3431 3432 3433 3434 3435 3436 3437 3438 3439 3440 3441 3442 3443 3444 3445 3446 3447 3448 3449 3450 3451 3452 3453 3454 3455 3456 3457 3458 3459 3460 3461 3462 3463 3464 3465 3466 3467 3468 3469 3470 3471 3472 3473 3474 3475 3476 3477 3478 3479 3480 3481 3482 3483 3484 3485 3486 3487 3488 3489 3490 3491 3492 3493 3494 3495 3496 3497 3498 3499 3500 3501 3502 3503 3504 3505 3506 3507 3508 3509 3510 3511 3512 3513 3514 "
     ]
    },
    {
     "name": "stdout",
     "output_type": "stream",
     "text": [
      "3515 3516 3517 3518 3519 3520 3521 3522 3523 3524 3525 3526 3527 3528 3529 3530 3531 3532 3533 3534 3535 3536 3537 3538 3539 3540 3541 3542 3543 3544 3545 3546 3547 3548 3549 3550 3551 3552 3553 3554 3555 3556 3557 3558 3559 3560 3561 3562 3563 3564 3565 3566 3567 3568 3569 3570 3571 3572 3573 3574 3575 3576 3577 3578 3579 3580 3581 3582 3583 3584 3585 3586 3587 3588 3589 3590 3591 3592 3593 3594 3595 3596 3597 3598 3599 3600 3601 3602 3603 3604 3605 3606 3607 3608 3609 3610 3611 3612 3613 3614 3615 3616 3617 3618 3619 3620 3621 3622 3623 3624 3625 3626 3627 3628 3629 3630 3631 3632 3633 3634 3635 3636 3637 3638 3639 3640 3641 3642 3643 3644 3645 3646 3647 3648 3649 3650 3651 3652 3653 3654 3655 3656 3657 3658 3659 3660 3661 3662 3663 3664 3665 3666 3667 3668 3669 3670 3671 3672 3673 3674 3675 3676 3677 3678 3679 3680 3681 3682 3683 3684 3685 3686 3687 3688 3689 3690 3691 3692 3693 3694 3695 3696 3697 3698 3699 3700 3701 3702 3703 3704 3705 3706 3707 3708 3709 3710 3711 3712 3713 3714 3715 3716 3717 3718 3719 3720 3721 3722 3723 3724 3725 3726 3727 3728 3729 3730 3731 3732 3733 3734 3735 3736 3737 3738 3739 3740 3741 3742 3743 3744 3745 3746 3747 3748 3749 3750 3751 3752 3753 3754 3755 3756 3757 3758 3759 3760 3761 3762 3763 3764 3765 3766 3767 3768 3769 3770 3771 3772 3773 3774 3775 3776 3777 3778 3779 3780 3781 3782 3783 3784 3785 3786 3787 3788 3789 3790 3791 3792 3793 3794 3795 3796 3797 3798 3799 3800 3801 3802 3803 3804 3805 3806 3807 3808 3809 3810 3811 3812 3813 3814 3815 3816 3817 3818 3819 3820 3821 3822 3823 3824 3825 3826 3827 3828 3829 3830 3831 3832 3833 3834 3835 3836 3837 3838 3839 3840 3841 3842 3843 3844 3845 3846 3847 3848 3849 3850 3851 3852 3853 3854 3855 3856 3857 3858 3859 3860 3861 3862 3863 3864 3865 3866 3867 3868 3869 3870 3871 3872 3873 3874 3875 3876 3877 3878 3879 3880 3881 3882 3883 3884 3885 3886 3887 3888 3889 3890 3891 3892 3893 3894 3895 3896 3897 3898 3899 3900 3901 3902 3903 3904 3905 3906 3907 3908 3909 3910 3911 3912 3913 3914 3915 3916 3917 3918 3919 3920 3921 3922 3923 3924 3925 3926 3927 3928 3929 3930 3931 3932 3933 3934 3935 3936 3937 3938 3939 3940 3941 3942 3943 3944 3945 3946 3947 3948 3949 3950 3951 3952 3953 3954 3955 3956 3957 3958 3959 3960 3961 3962 3963 3964 3965 3966 3967 3968 3969 3970 3971 3972 3973 3974 3975 3976 3977 3978 3979 3980 3981 3982 3983 3984 3985 3986 3987 3988 3989 3990 3991 3992 3993 3994 3995 3996 3997 3998 3999 4000 4001 4002 4003 4004 4005 4006 4007 4008 4009 4010 4011 4012 4013 4014 4015 4016 4017 4018 4019 4020 4021 4022 4023 4024 4025 4026 4027 4028 4029 4030 4031 4032 4033 4034 4035 4036 4037 4038 4039 4040 4041 4042 4043 4044 4045 4046 4047 4048 4049 4050 4051 4052 4053 4054 4055 4056 4057 4058 4059 4060 4061 4062 4063 4064 4065 4066 4067 4068 4069 4070 4071 4072 4073 4074 4075 4076 4077 4078 4079 4080 4081 4082 4083 4084 4085 4086 4087 4088 4089 4090 4091 4092 4093 4094 4095 4096 4097 4098 4099 4100 4101 4102 4103 4104 4105 4106 4107 4108 4109 4110 4111 4112 4113 4114 4115 4116 4117 4118 4119 4120 4121 4122 4123 4124 4125 4126 4127 4128 4129 4130 4131 4132 4133 4134 4135 4136 4137 4138 4139 4140 4141 4142 4143 4144 4145 4146 4147 4148 4149 4150 4151 4152 4153 4154 4155 4156 4157 4158 4159 4160 4161 4162 4163 4164 4165 4166 4167 4168 4169 4170 4171 4172 4173 4174 4175 4176 4177 4178 4179 4180 4181 4182 4183 4184 4185 4186 4187 4188 4189 4190 4191 4192 4193 4194 4195 4196 4197 4198 4199 4200 4201 4202 4203 4204 4205 4206 4207 4208 4209 4210 4211 4212 4213 4214 4215 4216 4217 4218 4219 4220 4221 4222 4223 4224 4225 4226 4227 4228 4229 4230 4231 4232 4233 4234 4235 4236 4237 4238 4239 4240 4241 4242 4243 4244 4245 4246 4247 4248 4249 4250 4251 4252 4253 4254 4255 4256 4257 4258 4259 4260 4261 4262 4263 4264 4265 4266 4267 4268 4269 4270 4271 4272 4273 4274 4275 4276 4277 4278 4279 4280 4281 4282 4283 4284 4285 4286 4287 4288 4289 4290 4291 4292 4293 4294 4295 4296 4297 4298 4299 4300 4301 4302 4303 4304 4305 4306 4307 4308 4309 4310 4311 4312 4313 4314 4315 4316 4317 4318 4319 4320 4321 4322 4323 4324 4325 4326 4327 4328 4329 4330 4331 4332 4333 4334 4335 4336 4337 4338 4339 4340 4341 4342 4343 4344 4345 4346 4347 4348 4349 4350 4351 4352 4353 4354 4355 4356 4357 4358 4359 4360 4361 4362 4363 4364 4365 4366 4367 4368 4369 4370 4371 4372 4373 4374 4375 4376 4377 4378 4379 4380 4381 4382 4383 4384 4385 4386 4387 4388 4389 4390 4391 4392 4393 4394 4395 4396 4397 4398 4399 4400 4401 4402 4403 4404 4405 4406 4407 4408 4409 4410 4411 4412 4413 4414 4415 4416 4417 4418 4419 4420 4421 4422 4423 4424 4425 4426 4427 4428 4429 4430 4431 4432 4433 4434 4435 4436 4437 4438 4439 4440 4441 4442 4443 4444 4445 4446 4447 4448 4449 4450 4451 4452 4453 4454 4455 4456 4457 4458 4459 4460 4461 4462 4463 4464 4465 4466 4467 4468 4469 4470 4471 4472 4473 4474 4475 4476 4477 4478 4479 4480 4481 4482 4483 4484 4485 4486 4487 4488 4489 4490 4491 4492 4493 4494 4495 4496 4497 4498 4499 4500 4501 4502 4503 4504 4505 4506 4507 4508 4509 4510 4511 4512 4513 4514 4515 4516 4517 4518 4519 4520 4521 4522 4523 4524 4525 4526 4527 4528 4529 4530 4531 4532 4533 4534 4535 4536 4537 4538 4539 4540 4541 4542 4543 4544 4545 4546 4547 4548 4549 4550 4551 4552 4553 4554 4555 4556 4557 4558 4559 4560 4561 4562 4563 4564 4565 4566 4567 4568 4569 4570 4571 4572 4573 4574 4575 4576 4577 4578 4579 4580 4581 4582 4583 4584 4585 4586 4587 4588 4589 4590 4591 4592 4593 4594 4595 4596 4597 4598 4599 4600 4601 4602 4603 4604 4605 4606 4607 4608 4609 4610 4611 4612 4613 4614 4615 4616 4617 4618 4619 4620 4621 4622 4623 4624 4625 4626 4627 4628 4629 4630 4631 4632 4633 4634 4635 4636 4637 4638 4639 4640 4641 4642 4643 4644 4645 4646 4647 4648 4649 4650 4651 4652 4653 4654 4655 4656 4657 4658 4659 4660 4661 4662 4663 4664 4665 4666 4667 4668 4669 4670 4671 4672 4673 4674 4675 4676 4677 4678 4679 4680 4681 4682 4683 4684 4685 4686 4687 4688 4689 4690 4691 4692 4693 4694 4695 4696 4697 4698 4699 4700 4701 4702 4703 4704 4705 4706 4707 4708 4709 4710 4711 4712 4713 4714 4715 4716 4717 4718 4719 4720 4721 4722 4723 4724 4725 4726 4727 4728 4729 4730 4731 4732 4733 4734 4735 4736 4737 4738 4739 4740 4741 4742 4743 4744 4745 4746 4747 4748 4749 4750 4751 4752 4753 4754 4755 4756 4757 4758 4759 4760 4761 4762 4763 4764 4765 4766 4767 4768 4769 4770 4771 4772 4773 4774 4775 4776 4777 4778 4779 4780 4781 4782 4783 4784 4785 4786 4787 4788 4789 4790 4791 4792 4793 4794 4795 4796 4797 4798 4799 4800 4801 4802 4803 4804 4805 4806 4807 4808 4809 4810 4811 4812 4813 4814 4815 4816 4817 4818 4819 4820 4821 4822 4823 4824 4825 4826 4827 4828 4829 4830 4831 4832 4833 4834 4835 4836 4837 4838 4839 4840 4841 4842 4843 4844 4845 4846 4847 4848 4849 4850 4851 4852 4853 4854 4855 4856 4857 4858 4859 4860 4861 4862 4863 4864 4865 4866 4867 4868 4869 4870 4871 4872 4873 4874 4875 4876 4877 4878 4879 4880 4881 4882 4883 4884 4885 4886 4887 4888 4889 4890 4891 4892 4893 4894 4895 4896 4897 4898 4899 4900 4901 4902 4903 4904 4905 4906 4907 4908 4909 4910 4911 4912 4913 4914 4915 4916 4917 4918 4919 4920 4921 4922 4923 4924 4925 4926 4927 4928 4929 4930 4931 4932 4933 4934 4935 4936 4937 4938 4939 4940 4941 4942 4943 4944 4945 4946 4947 4948 "
     ]
    }
   ],
   "source": [
    "flag1 = [0]*NUM_LABEL\n",
    "flag2 = [0]*NUM_LABEL\n",
    "\n"
   ]
  },
  {
   "cell_type": "code",
   "execution_count": 17,
   "id": "1565b637",
   "metadata": {},
   "outputs": [
    {
     "name": "stdout",
     "output_type": "stream",
     "text": [
      "0 10\n",
      "38: 161 61: 71 8: 1160 19: 304 45: 150 42: 284 6: 1401 57: 45 9: 1444 24: 939 \n",
      "\n",
      "1 10\n",
      "8: 1718 4: 1238 27: 248 28: 975 33: 189 41: 157 13: 218 24: 883 44: 44 15: 457 \n",
      "\n",
      "2 10\n",
      "42: 139 50: 159 5: 1808 21: 375 19: 50 4: 2075 44: 130 8: 1001 9: 1560 16: 181 \n",
      "\n",
      "3 10\n",
      "51: 151 54: 186 58: 188 59: 188 52: 141 8: 246 15: 265 14: 207 21: 167 47: 1137 \n",
      "\n",
      "4 10\n",
      "12: 254 1: 719 45: 15 22: 603 47: 572 0: 1586 23: 150 43: 366 57: 92 9: 938 \n",
      "\n",
      "5 10\n",
      "31: 342 10: 148 19: 64 16: 121 32: 144 26: 71 17: 196 43: 506 51: 46 46: 94 \n",
      "\n",
      "6 10\n",
      "20: 79 6: 1712 35: 115 23: 331 58: 103 40: 1821 51: 65 16: 66 27: 184 8: 380 \n",
      "\n",
      "7 10\n",
      "57: 127 53: 1073 35: 83 55: 647 49: 200 45: 35 19: 95 46: 135 7: 2198 58: 86 \n",
      "\n",
      "8 10\n",
      "5: 822 15: 119 47: 345 61: 184 43: 113 25: 398 34: 197 36: 691 39: 515 0: 616 \n",
      "\n",
      "9 10\n",
      "5: 1196 11: 101 4: 836 34: 97 1: 639 50: 108 22: 163 37: 316 16: 27 24: 381 \n",
      "\n",
      "10 10\n",
      "11: 69 10: 85 33: 113 43: 171 42: 17 30: 685 24: 797 41: 58 9: 479 55: 898 \n",
      "\n",
      "11 10\n",
      "57: 81 18: 903 28: 554 40: 543 48: 193 54: 99 13: 211 50: 28 0: 1421 37: 224 \n",
      "\n",
      "12 10\n",
      "33: 23 23: 409 49: 799 4: 564 25: 248 12: 404 13: 171 59: 61 38: 116 27: 113 \n",
      "\n",
      "13 10\n",
      "4: 203 42: 47 29: 601 21: 53 44: 37 0: 962 2: 785 9: 484 46: 115 27: 87 \n",
      "\n",
      "14 10\n",
      "26: 131 38: 71 9: 330 36: 445 21: 82 19: 37 22: 113 52: 94 5: 621 2: 1130 \n",
      "\n",
      "15 10\n",
      "60: 105 49: 123 1: 2448 14: 278 43: 66 48: 90 19: 23 9: 169 44: 106 20: 114 \n",
      "\n",
      "16 10\n",
      "52: 39 46: 57 28: 367 27: 48 54: 46 33: 21 36: 110 38: 38 18: 288 5: 110 \n",
      "\n",
      "17 10\n",
      "50: 63 4: 93 35: 113 61: 22 29: 293 8: 450 20: 33 23: 177 7: 1404 60: 116 \n",
      "\n",
      "18 10\n",
      "41: 56 54: 13 42: 37 8: 135 57: 46 14: 136 49: 156 33: 33 6: 250 15: 69 \n",
      "\n",
      "19 10\n",
      "50: 28 61: 37 46: 12 57: 23 25: 343 22: 109 51: 13 54: 11 6: 276 21: 23 \n",
      "\n",
      "20 10\n",
      "15: 181 58: 36 28: 646 3: 1652 39: 501 43: 127 6: 383 10: 151 25: 191 38: 13 \n",
      "\n",
      "21 10\n",
      "50: 19 20: 42 29: 215 22: 77 17: 125 49: 236 23: 134 10: 210 55: 251 42: 19 \n",
      "\n",
      "22 10\n",
      "36: 186 27: 53 53: 209 46: 25 15: 51 57: 9 30: 394 59: 49 14: 30 61: 24 \n",
      "\n",
      "23 10\n",
      "46: 2 37: 89 31: 62 34: 249 32: 74 51: 11 33: 16 54: 21 25: 105 43: 53 \n",
      "\n",
      "24 10\n",
      "33: 10 37: 90 39: 165 49: 91 4: 126 52: 95 0: 501 41: 29 23: 48 46: 9 \n",
      "\n",
      "25 10\n",
      "17: 43 11: 73 8: 239 5: 133 0: 265 26: 51 25: 17 49: 82 30: 348 22: 194 \n",
      "\n",
      "26 10\n",
      "9: 102 58: 24 5: 71 25: 43 35: 40 22: 75 39: 81 17: 63 30: 164 6: 178 \n",
      "\n",
      "27 10\n",
      "14: 72 17: 22 19: 21 32: 258 24: 316 8: 73 57: 4 25: 25 39: 150 52: 24 \n",
      "\n",
      "28 10\n",
      "13: 81 11: 72 25: 5 19: 15 60: 21 43: 18 24: 100 38: 12 44: 21 17: 19 \n",
      "\n",
      "29 10\n",
      "37: 25 19: 1 5: 91 39: 40 13: 38 32: 83 52: 28 15: 145 61: 55 8: 231 \n",
      "\n",
      "30 10\n",
      "4: 175 46: 6 60: 31 19: 16 13: 14 0: 171 23: 41 5: 110 61: 27 40: 370 \n",
      "\n",
      "31 10\n",
      "47: 147 6: 503 33: 9 1: 978 2: 757 45: 43 21: 45 7: 1229 11: 133 16: 14 \n",
      "\n",
      "32 10\n",
      "46: 11 31: 159 49: 97 33: 8 5: 228 27: 16 14: 43 56: 50 52: 37 23: 13 \n",
      "\n",
      "33 10\n",
      "38: 9 35: 53 1: 648 23: 17 16: 3 32: 106 44: 43 37: 45 18: 101 36: 71 \n",
      "\n",
      "34 10\n",
      "18: 205 47: 60 56: 76 41: 42 61: 8 52: 9 1: 362 21: 26 29: 90 10: 49 \n",
      "\n",
      "35 10\n",
      "35: 6 16: 10 22: 31 60: 41 43: 27 30: 88 12: 108 57: 8 33: 10 53: 330 \n",
      "\n",
      "36 10\n",
      "55: 315 36: 15 18: 244 41: 11 21: 16 40: 216 44: 4 45: 12 34: 61 6: 317 \n",
      "\n",
      "37 10\n",
      "50: 18 26: 33 39: 51 35: 22 24: 180 7: 244 57: 33 27: 7 48: 80 2: 852 \n",
      "\n",
      "38 10\n",
      "23: 31 14: 25 40: 267 18: 98 51: 19 42: 15 3: 533 7: 375 4: 98 17: 24 \n",
      "\n",
      "39 10\n",
      "61: 4 26: 14 52: 3 25: 22 51: 7 4: 211 37: 28 53: 351 29: 78 30: 140 \n",
      "\n",
      "40 10\n",
      "10: 115 1: 226 16: 10 48: 48 47: 32 28: 293 0: 102 9: 22 58: 12 41: 18 \n",
      "\n",
      "41 10\n",
      "45: 9 42: 12 12: 367 20: 52 51: 17 34: 86 10: 99 40: 188 54: 23 58: 1 \n",
      "\n",
      "42 10\n",
      "27: 6 39: 73 36: 17 31: 24 22: 41 32: 69 1: 48 18: 72 14: 27 37: 9 \n",
      "\n",
      "43 10\n",
      "61: 19 60: 18 49: 33 30: 26 32: 32 29: 132 37: 4 0: 14 41: 10 39: 44 \n",
      "\n",
      "44 10\n",
      "2: 793 30: 73 41: 2 28: 206 31: 75 54: 9 58: 7 44: 17 55: 338 21: 3 \n",
      "\n",
      "45 10\n",
      "51: 3 53: 131 32: 17 50: 19 41: 17 49: 81 26: 34 48: 16 31: 36 27: 47 \n",
      "\n",
      "46 10\n",
      "11: 25 56: 137 59: 54 3: 1761 35: 2 31: 24 43: 32 47: 62 50: 6 36: 21 \n",
      "\n",
      "47 10\n",
      "60: 10 11: 60 1: 124 36: 27 32: 7 59: 38 44: 3 47: 64 24: 70 42: 3 \n",
      "\n",
      "48 10\n",
      "47: 40 14: 9 29: 69 42: 16 3: 190 36: 61 15: 61 51: 36 59: 36 54: 8 \n",
      "\n",
      "49 10\n",
      "38: 5 52: 35 16: 2 50: 18 32: 16 30: 11 28: 209 22: 79 40: 90 15: 30 \n",
      "\n",
      "50 10\n",
      "21: 20 14: 24 38: 0 58: 3 17: 6 31: 20 53: 64 39: 63 34: 43 35: 12 \n",
      "\n",
      "51 10\n",
      "24: 88 55: 182 31: 26 16: 13 29: 8 0: 140 58: 7 53: 38 56: 97 10: 93 \n",
      "\n",
      "52 10\n",
      "6: 215 40: 184 56: 44 18: 17 35: 18 9: 158 38: 7 15: 62 12: 179 17: 8 \n",
      "\n",
      "53 10\n",
      "48: 4 26: 26 6: 470 59: 11 24: 402 20: 18 44: 22 55: 70 29: 30 31: 28 \n",
      "\n",
      "54 10\n",
      "12: 119 34: 6 48: 13 7: 217 54: 21 56: 34 40: 178 53: 26 3: 485 47: 76 \n",
      "\n",
      "55 10\n",
      "53: 29 48: 2 40: 235 59: 13 18: 46 20: 7 37: 23 11: 14 10: 22 56: 17 \n",
      "\n",
      "56 10\n",
      "55: 93 1: 138 60: 6 7: 207 13: 22 2: 356 18: 74 28: 58 30: 73 34: 16 \n",
      "\n",
      "57 10\n",
      "7: 81 13: 5 11: 27 10: 90 56: 11 2: 579 29: 60 3: 656 60: 3 55: 20 \n",
      "\n",
      "58 10\n",
      "55: 151 2: 289 26: 9 45: 22 48: 3 28: 99 12: 35 3: 63 11: 74 60: 30 \n",
      "\n",
      "59 10\n",
      "53: 69 59: 2 2: 125 17: 15 7: 54 13: 2 3: 266 20: 7 12: 48 45: 13 \n",
      "\n",
      "60 10\n",
      "34: 8 12: 94 7: 130 26: 10 56: 4 3: 41 20: 4 28: 101 48: 15 45: 5 \n",
      "\n",
      "61 10\n",
      "56: 12 59: 18 2: 203 45: 13 3: 322 13: 17 34: 35 12: 131 26: 34 20: 26 \n",
      "\n"
     ]
    },
    {
     "data": {
      "image/png": "[encoded data removed]",
      "text/plain": [
       "<Figure size 1512x1080 with 70 Axes>"
      ]
     },
     "metadata": {
      "needs_background": "light"
     },
     "output_type": "display_data"
    }
   ],
   "source": [
    "def check(all_client):\n",
    "    fig, axes = plt.subplots(nrows=7, ncols=10, figsize=(21, 15), sharey=True)\n",
    "    fig.subplots_adjust(hspace=0.5)\n",
    "\n",
    "    for i, key in enumerate(all_client.keys()):\n",
    "        print(key, len(all_client[key]))\n",
    "        for j in all_client[key].keys():\n",
    "            print(f'{j}: {len(all_client[key][j])}', end=' ')\n",
    "        print('\\n')\n",
    "\n",
    "        x = list(all_client[key].keys())\n",
    "        y = [len(all_client[key][t]) for t in all_client[key].keys()]\n",
    "        axes[int(i/10), int(i % 10)].bar(x=x, height=y)\n",
    "        axes[int(i/10), int(i%10)].set_title(sum(y))\n",
    "\n",
    "check(all_user)"
   ]
  },
  {
   "cell_type": "code",
   "execution_count": 18,
   "id": "c1b089c5",
   "metadata": {},
   "outputs": [],
   "source": [
    "def write_to_file(client_dict: dict):\n",
    "    all_train_data = {}\n",
    "    all_test_data = {}\n",
    "\n",
    "    users = list(client_dict.keys())\n",
    "    all_train_data['users'] = users\n",
    "    all_test_data['users'] = users\n",
    "\n",
    "    num_train_samples = []\n",
    "    num_test_samples = []\n",
    "    train_user_data = {}\n",
    "    test_user_data = {}\n",
    "    for user in users:\n",
    "        train_user_data[user] = {}\n",
    "        test_user_data[user] = {}\n",
    "\n",
    "        train_user_data[user]['x'] = []\n",
    "        train_user_data[user]['y'] = []\n",
    "        test_user_data[user]['x'] = []\n",
    "        test_user_data[user]['y'] = []\n",
    "\n",
    "        for key in client_dict[user].keys():\n",
    "            len_x = len(client_dict[user][key])\n",
    "            p = int(0.75*len_x)\n",
    "\n",
    "            train_user_data[user]['x'].extend(client_dict[user][key][:p])\n",
    "            train_user_data[user]['y'].extend([key]*p)\n",
    "\n",
    "            test_user_data[user]['x'].extend(client_dict[user][key][p:])\n",
    "            test_user_data[user]['y'].extend([key]*(len_x - p))\n",
    "\n",
    "        num_train_samples.append(len(train_user_data[user]['y']))\n",
    "        num_test_samples.append(len(test_user_data[user]['y']))\n",
    "\n",
    "    all_train_data['num_samples'] = num_train_samples\n",
    "    all_test_data['num_samples'] = num_test_samples\n",
    "    all_train_data['user_data'] = train_user_data\n",
    "    all_test_data['user_data'] = test_user_data\n",
    "\n",
    "    with open('./train_json/train.json', 'w') as outfile:\n",
    "        json.dump(all_train_data, outfile)\n",
    "    with open('./test_json/test.json', 'w') as outfile:\n",
    "        json.dump(all_test_data, outfile)\n",
    "        \n",
    "write_to_file(all_user)"
   ]
  }
 ],
 "metadata": {
  "kernelspec": {
   "display_name": "Python 3",
   "language": "python",
   "name": "python3"
  },
  "language_info": {
   "codemirror_mode": {
    "name": "ipython",
    "version": 3
   },
   "file_extension": ".py",
   "mimetype": "text/x-python",
   "name": "python",
   "nbconvert_exporter": "python",
   "pygments_lexer": "ipython3",
   "version": "3.8.8"
  }
 },
 "nbformat": 4,
 "nbformat_minor": 5
}
